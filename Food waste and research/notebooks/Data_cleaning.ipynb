{
 "cells": [
  {
   "cell_type": "code",
   "execution_count": 1,
   "id": "f3b417e2",
   "metadata": {},
   "outputs": [],
   "source": [
    "import pandas as pd\n",
    "import numpy as np \n",
    "import matplotlib.pyplot as plt\n",
    "import os \n",
    "import seaborn as sns\n",
    "from pathlib import Path\n"
   ]
  },
  {
   "cell_type": "code",
   "execution_count": 2,
   "id": "c7ca4422",
   "metadata": {},
   "outputs": [
    {
     "data": {
      "application/vnd.microsoft.datawrangler.viewer.v0+json": {
       "columns": [
        {
         "name": "index",
         "rawType": "int64",
         "type": "integer"
        },
        {
         "name": "Country",
         "rawType": "object",
         "type": "string"
        },
        {
         "name": "combined figures (kg/capita/year)",
         "rawType": "int64",
         "type": "integer"
        },
        {
         "name": "Household estimate (kg/capita/year)",
         "rawType": "int64",
         "type": "integer"
        },
        {
         "name": "Household estimate (tonnes/year)",
         "rawType": "int64",
         "type": "integer"
        },
        {
         "name": "Retail estimate (kg/capita/year)",
         "rawType": "int64",
         "type": "integer"
        },
        {
         "name": "Retail estimate (tonnes/year)",
         "rawType": "int64",
         "type": "integer"
        },
        {
         "name": "Food service estimate (kg/capita/year)",
         "rawType": "int64",
         "type": "integer"
        },
        {
         "name": "Food service estimate (tonnes/year)",
         "rawType": "int64",
         "type": "integer"
        },
        {
         "name": "Confidence in estimate",
         "rawType": "object",
         "type": "string"
        },
        {
         "name": "M49 code",
         "rawType": "int64",
         "type": "integer"
        },
        {
         "name": "Region",
         "rawType": "object",
         "type": "string"
        },
        {
         "name": "Source",
         "rawType": "object",
         "type": "string"
        }
       ],
       "ref": "f07d9009-d099-4000-999a-fe7adef6e716",
       "rows": [
        [
         "0",
         "Afghanistan",
         "126",
         "82",
         "3109153",
         "16",
         "594982",
         "28",
         "1051783",
         "Very Low Confidence",
         "4",
         "Southern Asia",
         "https://www.unep.org/resources/report/unep-food-waste-index-report-2151"
        ],
        [
         "1",
         "Albania",
         "127",
         "83",
         "238492",
         "16",
         "45058",
         "28",
         "79651",
         "Very Low Confidence",
         "8",
         "Southern Europe",
         "https://www.unep.org/resources/report/unep-food-waste-index-report-2160"
        ],
        [
         "2",
         "Algeria",
         "135",
         "91",
         "3918529",
         "16",
         "673360",
         "28",
         "1190335",
         "Very Low Confidence",
         "12",
         "Northern Africa",
         "https://www.unep.org/resources/report/unep-food-waste-index-report-2107"
        ],
        [
         "3",
         "Andorra",
         "123",
         "84",
         "6497",
         "13",
         "988",
         "26",
         "1971",
         "Low Confidence",
         "20",
         "Southern Europe",
         "https://www.unep.org/resources/report/unep-food-waste-index-report-2161"
        ],
        [
         "4",
         "Angola",
         "144",
         "100",
         "3169523",
         "16",
         "497755",
         "28",
         "879908",
         "Very Low Confidence",
         "24",
         "Sub-Saharan Africa",
         "https://www.unep.org/resources/report/unep-food-waste-index-report-2176"
        ],
        [
         "5",
         "Antigua and Barbuda",
         "113",
         "74",
         "7178",
         "13",
         "1244",
         "26",
         "2483",
         "Low Confidence",
         "28",
         "Latin America and the Caribbean",
         "https://www.unep.org/resources/report/unep-food-waste-index-report-2046"
        ],
        [
         "6",
         "Argentina",
         "116",
         "72",
         "3243563",
         "16",
         "700380",
         "28",
         "1238100",
         "Very Low Confidence",
         "32",
         "Latin America and the Caribbean",
         "https://www.unep.org/resources/report/unep-food-waste-index-report-2047"
        ],
        [
         "7",
         "Armenia",
         "137",
         "93",
         "275195",
         "16",
         "46259",
         "28",
         "81775",
         "Very Low Confidence",
         "51",
         "Western Asia",
         "https://www.unep.org/resources/report/unep-food-waste-index-report-2227"
        ],
        [
         "8",
         "Aruba",
         "113",
         "74",
         "7858",
         "13",
         "1362",
         "26",
         "2718",
         "Low Confidence",
         "533",
         "Latin America and the Caribbean",
         "https://www.unep.org/resources/report/unep-food-waste-index-report-2048"
        ],
        [
         "9",
         "Australia",
         "133",
         "102",
         "2563110",
         "9",
         "238248",
         "22",
         "546340",
         "High Confidence",
         "36",
         "Australia and New Zealand",
         "https://www.unep.org/resources/report/unep-food-waste-index-report-2021"
        ]
       ],
       "shape": {
        "columns": 12,
        "rows": 10
       }
      },
      "text/html": [
       "<div>\n",
       "<style scoped>\n",
       "    .dataframe tbody tr th:only-of-type {\n",
       "        vertical-align: middle;\n",
       "    }\n",
       "\n",
       "    .dataframe tbody tr th {\n",
       "        vertical-align: top;\n",
       "    }\n",
       "\n",
       "    .dataframe thead th {\n",
       "        text-align: right;\n",
       "    }\n",
       "</style>\n",
       "<table border=\"1\" class=\"dataframe\">\n",
       "  <thead>\n",
       "    <tr style=\"text-align: right;\">\n",
       "      <th></th>\n",
       "      <th>Country</th>\n",
       "      <th>combined figures (kg/capita/year)</th>\n",
       "      <th>Household estimate (kg/capita/year)</th>\n",
       "      <th>Household estimate (tonnes/year)</th>\n",
       "      <th>Retail estimate (kg/capita/year)</th>\n",
       "      <th>Retail estimate (tonnes/year)</th>\n",
       "      <th>Food service estimate (kg/capita/year)</th>\n",
       "      <th>Food service estimate (tonnes/year)</th>\n",
       "      <th>Confidence in estimate</th>\n",
       "      <th>M49 code</th>\n",
       "      <th>Region</th>\n",
       "      <th>Source</th>\n",
       "    </tr>\n",
       "  </thead>\n",
       "  <tbody>\n",
       "    <tr>\n",
       "      <th>0</th>\n",
       "      <td>Afghanistan</td>\n",
       "      <td>126</td>\n",
       "      <td>82</td>\n",
       "      <td>3109153</td>\n",
       "      <td>16</td>\n",
       "      <td>594982</td>\n",
       "      <td>28</td>\n",
       "      <td>1051783</td>\n",
       "      <td>Very Low Confidence</td>\n",
       "      <td>4</td>\n",
       "      <td>Southern Asia</td>\n",
       "      <td>https://www.unep.org/resources/report/unep-foo...</td>\n",
       "    </tr>\n",
       "    <tr>\n",
       "      <th>1</th>\n",
       "      <td>Albania</td>\n",
       "      <td>127</td>\n",
       "      <td>83</td>\n",
       "      <td>238492</td>\n",
       "      <td>16</td>\n",
       "      <td>45058</td>\n",
       "      <td>28</td>\n",
       "      <td>79651</td>\n",
       "      <td>Very Low Confidence</td>\n",
       "      <td>8</td>\n",
       "      <td>Southern Europe</td>\n",
       "      <td>https://www.unep.org/resources/report/unep-foo...</td>\n",
       "    </tr>\n",
       "    <tr>\n",
       "      <th>2</th>\n",
       "      <td>Algeria</td>\n",
       "      <td>135</td>\n",
       "      <td>91</td>\n",
       "      <td>3918529</td>\n",
       "      <td>16</td>\n",
       "      <td>673360</td>\n",
       "      <td>28</td>\n",
       "      <td>1190335</td>\n",
       "      <td>Very Low Confidence</td>\n",
       "      <td>12</td>\n",
       "      <td>Northern Africa</td>\n",
       "      <td>https://www.unep.org/resources/report/unep-foo...</td>\n",
       "    </tr>\n",
       "    <tr>\n",
       "      <th>3</th>\n",
       "      <td>Andorra</td>\n",
       "      <td>123</td>\n",
       "      <td>84</td>\n",
       "      <td>6497</td>\n",
       "      <td>13</td>\n",
       "      <td>988</td>\n",
       "      <td>26</td>\n",
       "      <td>1971</td>\n",
       "      <td>Low Confidence</td>\n",
       "      <td>20</td>\n",
       "      <td>Southern Europe</td>\n",
       "      <td>https://www.unep.org/resources/report/unep-foo...</td>\n",
       "    </tr>\n",
       "    <tr>\n",
       "      <th>4</th>\n",
       "      <td>Angola</td>\n",
       "      <td>144</td>\n",
       "      <td>100</td>\n",
       "      <td>3169523</td>\n",
       "      <td>16</td>\n",
       "      <td>497755</td>\n",
       "      <td>28</td>\n",
       "      <td>879908</td>\n",
       "      <td>Very Low Confidence</td>\n",
       "      <td>24</td>\n",
       "      <td>Sub-Saharan Africa</td>\n",
       "      <td>https://www.unep.org/resources/report/unep-foo...</td>\n",
       "    </tr>\n",
       "    <tr>\n",
       "      <th>5</th>\n",
       "      <td>Antigua and Barbuda</td>\n",
       "      <td>113</td>\n",
       "      <td>74</td>\n",
       "      <td>7178</td>\n",
       "      <td>13</td>\n",
       "      <td>1244</td>\n",
       "      <td>26</td>\n",
       "      <td>2483</td>\n",
       "      <td>Low Confidence</td>\n",
       "      <td>28</td>\n",
       "      <td>Latin America and the Caribbean</td>\n",
       "      <td>https://www.unep.org/resources/report/unep-foo...</td>\n",
       "    </tr>\n",
       "    <tr>\n",
       "      <th>6</th>\n",
       "      <td>Argentina</td>\n",
       "      <td>116</td>\n",
       "      <td>72</td>\n",
       "      <td>3243563</td>\n",
       "      <td>16</td>\n",
       "      <td>700380</td>\n",
       "      <td>28</td>\n",
       "      <td>1238100</td>\n",
       "      <td>Very Low Confidence</td>\n",
       "      <td>32</td>\n",
       "      <td>Latin America and the Caribbean</td>\n",
       "      <td>https://www.unep.org/resources/report/unep-foo...</td>\n",
       "    </tr>\n",
       "    <tr>\n",
       "      <th>7</th>\n",
       "      <td>Armenia</td>\n",
       "      <td>137</td>\n",
       "      <td>93</td>\n",
       "      <td>275195</td>\n",
       "      <td>16</td>\n",
       "      <td>46259</td>\n",
       "      <td>28</td>\n",
       "      <td>81775</td>\n",
       "      <td>Very Low Confidence</td>\n",
       "      <td>51</td>\n",
       "      <td>Western Asia</td>\n",
       "      <td>https://www.unep.org/resources/report/unep-foo...</td>\n",
       "    </tr>\n",
       "    <tr>\n",
       "      <th>8</th>\n",
       "      <td>Aruba</td>\n",
       "      <td>113</td>\n",
       "      <td>74</td>\n",
       "      <td>7858</td>\n",
       "      <td>13</td>\n",
       "      <td>1362</td>\n",
       "      <td>26</td>\n",
       "      <td>2718</td>\n",
       "      <td>Low Confidence</td>\n",
       "      <td>533</td>\n",
       "      <td>Latin America and the Caribbean</td>\n",
       "      <td>https://www.unep.org/resources/report/unep-foo...</td>\n",
       "    </tr>\n",
       "    <tr>\n",
       "      <th>9</th>\n",
       "      <td>Australia</td>\n",
       "      <td>133</td>\n",
       "      <td>102</td>\n",
       "      <td>2563110</td>\n",
       "      <td>9</td>\n",
       "      <td>238248</td>\n",
       "      <td>22</td>\n",
       "      <td>546340</td>\n",
       "      <td>High Confidence</td>\n",
       "      <td>36</td>\n",
       "      <td>Australia and New Zealand</td>\n",
       "      <td>https://www.unep.org/resources/report/unep-foo...</td>\n",
       "    </tr>\n",
       "  </tbody>\n",
       "</table>\n",
       "</div>"
      ],
      "text/plain": [
       "               Country  combined figures (kg/capita/year)  \\\n",
       "0          Afghanistan                                126   \n",
       "1              Albania                                127   \n",
       "2              Algeria                                135   \n",
       "3              Andorra                                123   \n",
       "4               Angola                                144   \n",
       "5  Antigua and Barbuda                                113   \n",
       "6            Argentina                                116   \n",
       "7              Armenia                                137   \n",
       "8                Aruba                                113   \n",
       "9            Australia                                133   \n",
       "\n",
       "   Household estimate (kg/capita/year)  Household estimate (tonnes/year)  \\\n",
       "0                                   82                           3109153   \n",
       "1                                   83                            238492   \n",
       "2                                   91                           3918529   \n",
       "3                                   84                              6497   \n",
       "4                                  100                           3169523   \n",
       "5                                   74                              7178   \n",
       "6                                   72                           3243563   \n",
       "7                                   93                            275195   \n",
       "8                                   74                              7858   \n",
       "9                                  102                           2563110   \n",
       "\n",
       "   Retail estimate (kg/capita/year)  Retail estimate (tonnes/year)  \\\n",
       "0                                16                         594982   \n",
       "1                                16                          45058   \n",
       "2                                16                         673360   \n",
       "3                                13                            988   \n",
       "4                                16                         497755   \n",
       "5                                13                           1244   \n",
       "6                                16                         700380   \n",
       "7                                16                          46259   \n",
       "8                                13                           1362   \n",
       "9                                 9                         238248   \n",
       "\n",
       "   Food service estimate (kg/capita/year)  \\\n",
       "0                                      28   \n",
       "1                                      28   \n",
       "2                                      28   \n",
       "3                                      26   \n",
       "4                                      28   \n",
       "5                                      26   \n",
       "6                                      28   \n",
       "7                                      28   \n",
       "8                                      26   \n",
       "9                                      22   \n",
       "\n",
       "   Food service estimate (tonnes/year) Confidence in estimate  M49 code  \\\n",
       "0                              1051783    Very Low Confidence         4   \n",
       "1                                79651    Very Low Confidence         8   \n",
       "2                              1190335    Very Low Confidence        12   \n",
       "3                                 1971         Low Confidence        20   \n",
       "4                               879908    Very Low Confidence        24   \n",
       "5                                 2483         Low Confidence        28   \n",
       "6                              1238100    Very Low Confidence        32   \n",
       "7                                81775    Very Low Confidence        51   \n",
       "8                                 2718         Low Confidence       533   \n",
       "9                               546340        High Confidence        36   \n",
       "\n",
       "                            Region  \\\n",
       "0                    Southern Asia   \n",
       "1                  Southern Europe   \n",
       "2                  Northern Africa   \n",
       "3                  Southern Europe   \n",
       "4               Sub-Saharan Africa   \n",
       "5  Latin America and the Caribbean   \n",
       "6  Latin America and the Caribbean   \n",
       "7                     Western Asia   \n",
       "8  Latin America and the Caribbean   \n",
       "9        Australia and New Zealand   \n",
       "\n",
       "                                              Source  \n",
       "0  https://www.unep.org/resources/report/unep-foo...  \n",
       "1  https://www.unep.org/resources/report/unep-foo...  \n",
       "2  https://www.unep.org/resources/report/unep-foo...  \n",
       "3  https://www.unep.org/resources/report/unep-foo...  \n",
       "4  https://www.unep.org/resources/report/unep-foo...  \n",
       "5  https://www.unep.org/resources/report/unep-foo...  \n",
       "6  https://www.unep.org/resources/report/unep-foo...  \n",
       "7  https://www.unep.org/resources/report/unep-foo...  \n",
       "8  https://www.unep.org/resources/report/unep-foo...  \n",
       "9  https://www.unep.org/resources/report/unep-foo...  "
      ]
     },
     "execution_count": 2,
     "metadata": {},
     "output_type": "execute_result"
    }
   ],
   "source": [
    "df = pd.read_csv('D:/github/python projects/Analysis/sustainable_goal_affordable_ and_clean_renewable_enargy/Analysis/Food waste and research/data/Food Waste data and research - by country.csv')\n",
    "df.head(10)"
   ]
  },
  {
   "cell_type": "code",
   "execution_count": 3,
   "id": "403fa952",
   "metadata": {},
   "outputs": [
    {
     "name": "stdout",
     "output_type": "stream",
     "text": [
      "\n",
      "--- Data Info ---\n",
      "<class 'pandas.core.frame.DataFrame'>\n",
      "RangeIndex: 214 entries, 0 to 213\n",
      "Data columns (total 12 columns):\n",
      " #   Column                                  Non-Null Count  Dtype \n",
      "---  ------                                  --------------  ----- \n",
      " 0   Country                                 214 non-null    object\n",
      " 1   combined figures (kg/capita/year)       214 non-null    int64 \n",
      " 2   Household estimate (kg/capita/year)     214 non-null    int64 \n",
      " 3   Household estimate (tonnes/year)        214 non-null    int64 \n",
      " 4   Retail estimate (kg/capita/year)        214 non-null    int64 \n",
      " 5   Retail estimate (tonnes/year)           214 non-null    int64 \n",
      " 6   Food service estimate (kg/capita/year)  214 non-null    int64 \n",
      " 7   Food service estimate (tonnes/year)     214 non-null    int64 \n",
      " 8   Confidence in estimate                  214 non-null    object\n",
      " 9   M49 code                                214 non-null    int64 \n",
      " 10  Region                                  214 non-null    object\n",
      " 11  Source                                  214 non-null    object\n",
      "dtypes: int64(8), object(4)\n",
      "memory usage: 20.2+ KB\n",
      "\n",
      "--- Descriptive Statistics ---\n"
     ]
    },
    {
     "data": {
      "application/vnd.microsoft.datawrangler.viewer.v0+json": {
       "columns": [
        {
         "name": "index",
         "rawType": "object",
         "type": "string"
        },
        {
         "name": "count",
         "rawType": "float64",
         "type": "float"
        },
        {
         "name": "mean",
         "rawType": "float64",
         "type": "float"
        },
        {
         "name": "std",
         "rawType": "float64",
         "type": "float"
        },
        {
         "name": "min",
         "rawType": "float64",
         "type": "float"
        },
        {
         "name": "25%",
         "rawType": "float64",
         "type": "float"
        },
        {
         "name": "50%",
         "rawType": "float64",
         "type": "float"
        },
        {
         "name": "75%",
         "rawType": "float64",
         "type": "float"
        },
        {
         "name": "max",
         "rawType": "float64",
         "type": "float"
        }
       ],
       "ref": "22381a53-082d-4b8c-9763-d477586d56e2",
       "rows": [
        [
         "combined figures (kg/capita/year)",
         "214.0",
         "126.79439252336448",
         "22.157879221646432",
         "61.0",
         "115.0",
         "123.0",
         "137.75",
         "260.0"
        ],
        [
         "Household estimate (kg/capita/year)",
         "214.0",
         "84.29439252336448",
         "18.31370523390878",
         "33.0",
         "74.0",
         "80.0",
         "95.0",
         "189.0"
        ],
        [
         "Household estimate (tonnes/year)",
         "214.0",
         "2658895.6542056073",
         "8596906.21894249",
         "850.0",
         "68315.5",
         "520508.0",
         "2111314.5",
         "91646213.0"
        ],
        [
         "Retail estimate (kg/capita/year)",
         "214.0",
         "15.116822429906541",
         "5.767840027951462",
         "3.0",
         "13.0",
         "16.0",
         "16.0",
         "79.0"
        ],
        [
         "Retail estimate (tonnes/year)",
         "214.0",
         "552045.4299065421",
         "2195578.490114485",
         "138.0",
         "12509.25",
         "100650.0",
         "356815.75",
         "22424705.0"
        ],
        [
         "Food service estimate (kg/capita/year)",
         "214.0",
         "27.38317757009346",
         "6.508419768562395",
         "3.0",
         "26.0",
         "28.0",
         "28.0",
         "90.0"
        ],
        [
         "Food service estimate (tonnes/year)",
         "214.0",
         "1138859.2476635515",
         "5380459.13880617",
         "276.0",
         "22391.25",
         "188466.0",
         "630761.75",
         "65377741.0"
        ],
        [
         "M49 code",
         "214.0",
         "433.97196261682245",
         "252.18578582409617",
         "4.0",
         "219.0",
         "432.0",
         "645.25",
         "894.0"
        ]
       ],
       "shape": {
        "columns": 8,
        "rows": 8
       }
      },
      "text/html": [
       "<div>\n",
       "<style scoped>\n",
       "    .dataframe tbody tr th:only-of-type {\n",
       "        vertical-align: middle;\n",
       "    }\n",
       "\n",
       "    .dataframe tbody tr th {\n",
       "        vertical-align: top;\n",
       "    }\n",
       "\n",
       "    .dataframe thead th {\n",
       "        text-align: right;\n",
       "    }\n",
       "</style>\n",
       "<table border=\"1\" class=\"dataframe\">\n",
       "  <thead>\n",
       "    <tr style=\"text-align: right;\">\n",
       "      <th></th>\n",
       "      <th>count</th>\n",
       "      <th>mean</th>\n",
       "      <th>std</th>\n",
       "      <th>min</th>\n",
       "      <th>25%</th>\n",
       "      <th>50%</th>\n",
       "      <th>75%</th>\n",
       "      <th>max</th>\n",
       "    </tr>\n",
       "  </thead>\n",
       "  <tbody>\n",
       "    <tr>\n",
       "      <th>combined figures (kg/capita/year)</th>\n",
       "      <td>214.0</td>\n",
       "      <td>1.267944e+02</td>\n",
       "      <td>2.215788e+01</td>\n",
       "      <td>61.0</td>\n",
       "      <td>115.00</td>\n",
       "      <td>123.0</td>\n",
       "      <td>137.75</td>\n",
       "      <td>260.0</td>\n",
       "    </tr>\n",
       "    <tr>\n",
       "      <th>Household estimate (kg/capita/year)</th>\n",
       "      <td>214.0</td>\n",
       "      <td>8.429439e+01</td>\n",
       "      <td>1.831371e+01</td>\n",
       "      <td>33.0</td>\n",
       "      <td>74.00</td>\n",
       "      <td>80.0</td>\n",
       "      <td>95.00</td>\n",
       "      <td>189.0</td>\n",
       "    </tr>\n",
       "    <tr>\n",
       "      <th>Household estimate (tonnes/year)</th>\n",
       "      <td>214.0</td>\n",
       "      <td>2.658896e+06</td>\n",
       "      <td>8.596906e+06</td>\n",
       "      <td>850.0</td>\n",
       "      <td>68315.50</td>\n",
       "      <td>520508.0</td>\n",
       "      <td>2111314.50</td>\n",
       "      <td>91646213.0</td>\n",
       "    </tr>\n",
       "    <tr>\n",
       "      <th>Retail estimate (kg/capita/year)</th>\n",
       "      <td>214.0</td>\n",
       "      <td>1.511682e+01</td>\n",
       "      <td>5.767840e+00</td>\n",
       "      <td>3.0</td>\n",
       "      <td>13.00</td>\n",
       "      <td>16.0</td>\n",
       "      <td>16.00</td>\n",
       "      <td>79.0</td>\n",
       "    </tr>\n",
       "    <tr>\n",
       "      <th>Retail estimate (tonnes/year)</th>\n",
       "      <td>214.0</td>\n",
       "      <td>5.520454e+05</td>\n",
       "      <td>2.195578e+06</td>\n",
       "      <td>138.0</td>\n",
       "      <td>12509.25</td>\n",
       "      <td>100650.0</td>\n",
       "      <td>356815.75</td>\n",
       "      <td>22424705.0</td>\n",
       "    </tr>\n",
       "    <tr>\n",
       "      <th>Food service estimate (kg/capita/year)</th>\n",
       "      <td>214.0</td>\n",
       "      <td>2.738318e+01</td>\n",
       "      <td>6.508420e+00</td>\n",
       "      <td>3.0</td>\n",
       "      <td>26.00</td>\n",
       "      <td>28.0</td>\n",
       "      <td>28.00</td>\n",
       "      <td>90.0</td>\n",
       "    </tr>\n",
       "    <tr>\n",
       "      <th>Food service estimate (tonnes/year)</th>\n",
       "      <td>214.0</td>\n",
       "      <td>1.138859e+06</td>\n",
       "      <td>5.380459e+06</td>\n",
       "      <td>276.0</td>\n",
       "      <td>22391.25</td>\n",
       "      <td>188466.0</td>\n",
       "      <td>630761.75</td>\n",
       "      <td>65377741.0</td>\n",
       "    </tr>\n",
       "    <tr>\n",
       "      <th>M49 code</th>\n",
       "      <td>214.0</td>\n",
       "      <td>4.339720e+02</td>\n",
       "      <td>2.521858e+02</td>\n",
       "      <td>4.0</td>\n",
       "      <td>219.00</td>\n",
       "      <td>432.0</td>\n",
       "      <td>645.25</td>\n",
       "      <td>894.0</td>\n",
       "    </tr>\n",
       "  </tbody>\n",
       "</table>\n",
       "</div>"
      ],
      "text/plain": [
       "                                        count          mean           std  \\\n",
       "combined figures (kg/capita/year)       214.0  1.267944e+02  2.215788e+01   \n",
       "Household estimate (kg/capita/year)     214.0  8.429439e+01  1.831371e+01   \n",
       "Household estimate (tonnes/year)        214.0  2.658896e+06  8.596906e+06   \n",
       "Retail estimate (kg/capita/year)        214.0  1.511682e+01  5.767840e+00   \n",
       "Retail estimate (tonnes/year)           214.0  5.520454e+05  2.195578e+06   \n",
       "Food service estimate (kg/capita/year)  214.0  2.738318e+01  6.508420e+00   \n",
       "Food service estimate (tonnes/year)     214.0  1.138859e+06  5.380459e+06   \n",
       "M49 code                                214.0  4.339720e+02  2.521858e+02   \n",
       "\n",
       "                                          min       25%       50%         75%  \\\n",
       "combined figures (kg/capita/year)        61.0    115.00     123.0      137.75   \n",
       "Household estimate (kg/capita/year)      33.0     74.00      80.0       95.00   \n",
       "Household estimate (tonnes/year)        850.0  68315.50  520508.0  2111314.50   \n",
       "Retail estimate (kg/capita/year)          3.0     13.00      16.0       16.00   \n",
       "Retail estimate (tonnes/year)           138.0  12509.25  100650.0   356815.75   \n",
       "Food service estimate (kg/capita/year)    3.0     26.00      28.0       28.00   \n",
       "Food service estimate (tonnes/year)     276.0  22391.25  188466.0   630761.75   \n",
       "M49 code                                  4.0    219.00     432.0      645.25   \n",
       "\n",
       "                                               max  \n",
       "combined figures (kg/capita/year)            260.0  \n",
       "Household estimate (kg/capita/year)          189.0  \n",
       "Household estimate (tonnes/year)        91646213.0  \n",
       "Retail estimate (kg/capita/year)              79.0  \n",
       "Retail estimate (tonnes/year)           22424705.0  \n",
       "Food service estimate (kg/capita/year)        90.0  \n",
       "Food service estimate (tonnes/year)     65377741.0  \n",
       "M49 code                                     894.0  "
      ]
     },
     "metadata": {},
     "output_type": "display_data"
    }
   ],
   "source": [
    "print(\"\\n--- Data Info ---\")\n",
    "df.info()\n",
    "\n",
    "print(\"\\n--- Descriptive Statistics ---\")\n",
    "display(df.describe().T)"
   ]
  },
  {
   "cell_type": "markdown",
   "id": "150e5cd5",
   "metadata": {},
   "source": [
    "### Data cleaning"
   ]
  },
  {
   "cell_type": "markdown",
   "id": "16f274ba",
   "metadata": {},
   "source": [
    "##### * Rename the colums to make them shorter and easier to work with"
   ]
  },
  {
   "cell_type": "code",
   "execution_count": 4,
   "id": "3febf870",
   "metadata": {},
   "outputs": [],
   "source": [
    "df.columns = [\n",
    "    'country', 'combined_figures_kg_capita_year', 'household_estimate_kg_capita_year',\n",
    "    'household_estimate_tonnes_year', 'retail_estimate_kg_capita_year',\n",
    "    'retail_estimate_tonnes_year', 'food_service_estimate_kg_capita_year',\n",
    "    'food_service_estimate_tonnes_year', 'confidence_in_estimate', 'm49_code',\n",
    "    'region', 'source'\n",
    "]"
   ]
  },
  {
   "cell_type": "code",
   "execution_count": 5,
   "id": "ed4bd55c",
   "metadata": {},
   "outputs": [
    {
     "data": {
      "application/vnd.microsoft.datawrangler.viewer.v0+json": {
       "columns": [
        {
         "name": "index",
         "rawType": "int64",
         "type": "integer"
        },
        {
         "name": "country",
         "rawType": "object",
         "type": "string"
        },
        {
         "name": "combined_figures_kg_capita_year",
         "rawType": "int64",
         "type": "integer"
        },
        {
         "name": "household_estimate_kg_capita_year",
         "rawType": "int64",
         "type": "integer"
        },
        {
         "name": "household_estimate_tonnes_year",
         "rawType": "int64",
         "type": "integer"
        },
        {
         "name": "retail_estimate_kg_capita_year",
         "rawType": "int64",
         "type": "integer"
        },
        {
         "name": "retail_estimate_tonnes_year",
         "rawType": "int64",
         "type": "integer"
        },
        {
         "name": "food_service_estimate_kg_capita_year",
         "rawType": "int64",
         "type": "integer"
        },
        {
         "name": "food_service_estimate_tonnes_year",
         "rawType": "int64",
         "type": "integer"
        },
        {
         "name": "confidence_in_estimate",
         "rawType": "object",
         "type": "string"
        },
        {
         "name": "m49_code",
         "rawType": "int64",
         "type": "integer"
        },
        {
         "name": "region",
         "rawType": "object",
         "type": "string"
        },
        {
         "name": "source",
         "rawType": "object",
         "type": "string"
        }
       ],
       "ref": "b5b5b795-ac00-4d7b-aad8-5fdc3256a4d2",
       "rows": [
        [
         "0",
         "Afghanistan",
         "126",
         "82",
         "3109153",
         "16",
         "594982",
         "28",
         "1051783",
         "Very Low Confidence",
         "4",
         "Southern Asia",
         "https://www.unep.org/resources/report/unep-food-waste-index-report-2151"
        ],
        [
         "1",
         "Albania",
         "127",
         "83",
         "238492",
         "16",
         "45058",
         "28",
         "79651",
         "Very Low Confidence",
         "8",
         "Southern Europe",
         "https://www.unep.org/resources/report/unep-food-waste-index-report-2160"
        ],
        [
         "2",
         "Algeria",
         "135",
         "91",
         "3918529",
         "16",
         "673360",
         "28",
         "1190335",
         "Very Low Confidence",
         "12",
         "Northern Africa",
         "https://www.unep.org/resources/report/unep-food-waste-index-report-2107"
        ],
        [
         "3",
         "Andorra",
         "123",
         "84",
         "6497",
         "13",
         "988",
         "26",
         "1971",
         "Low Confidence",
         "20",
         "Southern Europe",
         "https://www.unep.org/resources/report/unep-food-waste-index-report-2161"
        ],
        [
         "4",
         "Angola",
         "144",
         "100",
         "3169523",
         "16",
         "497755",
         "28",
         "879908",
         "Very Low Confidence",
         "24",
         "Sub-Saharan Africa",
         "https://www.unep.org/resources/report/unep-food-waste-index-report-2176"
        ]
       ],
       "shape": {
        "columns": 12,
        "rows": 5
       }
      },
      "text/html": [
       "<div>\n",
       "<style scoped>\n",
       "    .dataframe tbody tr th:only-of-type {\n",
       "        vertical-align: middle;\n",
       "    }\n",
       "\n",
       "    .dataframe tbody tr th {\n",
       "        vertical-align: top;\n",
       "    }\n",
       "\n",
       "    .dataframe thead th {\n",
       "        text-align: right;\n",
       "    }\n",
       "</style>\n",
       "<table border=\"1\" class=\"dataframe\">\n",
       "  <thead>\n",
       "    <tr style=\"text-align: right;\">\n",
       "      <th></th>\n",
       "      <th>country</th>\n",
       "      <th>combined_figures_kg_capita_year</th>\n",
       "      <th>household_estimate_kg_capita_year</th>\n",
       "      <th>household_estimate_tonnes_year</th>\n",
       "      <th>retail_estimate_kg_capita_year</th>\n",
       "      <th>retail_estimate_tonnes_year</th>\n",
       "      <th>food_service_estimate_kg_capita_year</th>\n",
       "      <th>food_service_estimate_tonnes_year</th>\n",
       "      <th>confidence_in_estimate</th>\n",
       "      <th>m49_code</th>\n",
       "      <th>region</th>\n",
       "      <th>source</th>\n",
       "    </tr>\n",
       "  </thead>\n",
       "  <tbody>\n",
       "    <tr>\n",
       "      <th>0</th>\n",
       "      <td>Afghanistan</td>\n",
       "      <td>126</td>\n",
       "      <td>82</td>\n",
       "      <td>3109153</td>\n",
       "      <td>16</td>\n",
       "      <td>594982</td>\n",
       "      <td>28</td>\n",
       "      <td>1051783</td>\n",
       "      <td>Very Low Confidence</td>\n",
       "      <td>4</td>\n",
       "      <td>Southern Asia</td>\n",
       "      <td>https://www.unep.org/resources/report/unep-foo...</td>\n",
       "    </tr>\n",
       "    <tr>\n",
       "      <th>1</th>\n",
       "      <td>Albania</td>\n",
       "      <td>127</td>\n",
       "      <td>83</td>\n",
       "      <td>238492</td>\n",
       "      <td>16</td>\n",
       "      <td>45058</td>\n",
       "      <td>28</td>\n",
       "      <td>79651</td>\n",
       "      <td>Very Low Confidence</td>\n",
       "      <td>8</td>\n",
       "      <td>Southern Europe</td>\n",
       "      <td>https://www.unep.org/resources/report/unep-foo...</td>\n",
       "    </tr>\n",
       "    <tr>\n",
       "      <th>2</th>\n",
       "      <td>Algeria</td>\n",
       "      <td>135</td>\n",
       "      <td>91</td>\n",
       "      <td>3918529</td>\n",
       "      <td>16</td>\n",
       "      <td>673360</td>\n",
       "      <td>28</td>\n",
       "      <td>1190335</td>\n",
       "      <td>Very Low Confidence</td>\n",
       "      <td>12</td>\n",
       "      <td>Northern Africa</td>\n",
       "      <td>https://www.unep.org/resources/report/unep-foo...</td>\n",
       "    </tr>\n",
       "    <tr>\n",
       "      <th>3</th>\n",
       "      <td>Andorra</td>\n",
       "      <td>123</td>\n",
       "      <td>84</td>\n",
       "      <td>6497</td>\n",
       "      <td>13</td>\n",
       "      <td>988</td>\n",
       "      <td>26</td>\n",
       "      <td>1971</td>\n",
       "      <td>Low Confidence</td>\n",
       "      <td>20</td>\n",
       "      <td>Southern Europe</td>\n",
       "      <td>https://www.unep.org/resources/report/unep-foo...</td>\n",
       "    </tr>\n",
       "    <tr>\n",
       "      <th>4</th>\n",
       "      <td>Angola</td>\n",
       "      <td>144</td>\n",
       "      <td>100</td>\n",
       "      <td>3169523</td>\n",
       "      <td>16</td>\n",
       "      <td>497755</td>\n",
       "      <td>28</td>\n",
       "      <td>879908</td>\n",
       "      <td>Very Low Confidence</td>\n",
       "      <td>24</td>\n",
       "      <td>Sub-Saharan Africa</td>\n",
       "      <td>https://www.unep.org/resources/report/unep-foo...</td>\n",
       "    </tr>\n",
       "  </tbody>\n",
       "</table>\n",
       "</div>"
      ],
      "text/plain": [
       "       country  combined_figures_kg_capita_year  \\\n",
       "0  Afghanistan                              126   \n",
       "1      Albania                              127   \n",
       "2      Algeria                              135   \n",
       "3      Andorra                              123   \n",
       "4       Angola                              144   \n",
       "\n",
       "   household_estimate_kg_capita_year  household_estimate_tonnes_year  \\\n",
       "0                                 82                         3109153   \n",
       "1                                 83                          238492   \n",
       "2                                 91                         3918529   \n",
       "3                                 84                            6497   \n",
       "4                                100                         3169523   \n",
       "\n",
       "   retail_estimate_kg_capita_year  retail_estimate_tonnes_year  \\\n",
       "0                              16                       594982   \n",
       "1                              16                        45058   \n",
       "2                              16                       673360   \n",
       "3                              13                          988   \n",
       "4                              16                       497755   \n",
       "\n",
       "   food_service_estimate_kg_capita_year  food_service_estimate_tonnes_year  \\\n",
       "0                                    28                            1051783   \n",
       "1                                    28                              79651   \n",
       "2                                    28                            1190335   \n",
       "3                                    26                               1971   \n",
       "4                                    28                             879908   \n",
       "\n",
       "  confidence_in_estimate  m49_code              region  \\\n",
       "0    Very Low Confidence         4       Southern Asia   \n",
       "1    Very Low Confidence         8     Southern Europe   \n",
       "2    Very Low Confidence        12     Northern Africa   \n",
       "3         Low Confidence        20     Southern Europe   \n",
       "4    Very Low Confidence        24  Sub-Saharan Africa   \n",
       "\n",
       "                                              source  \n",
       "0  https://www.unep.org/resources/report/unep-foo...  \n",
       "1  https://www.unep.org/resources/report/unep-foo...  \n",
       "2  https://www.unep.org/resources/report/unep-foo...  \n",
       "3  https://www.unep.org/resources/report/unep-foo...  \n",
       "4  https://www.unep.org/resources/report/unep-foo...  "
      ]
     },
     "execution_count": 5,
     "metadata": {},
     "output_type": "execute_result"
    }
   ],
   "source": [
    "df.head()"
   ]
  },
  {
   "cell_type": "markdown",
   "id": "23e4172c",
   "metadata": {},
   "source": [
    "##### * Check for null values "
   ]
  },
  {
   "cell_type": "code",
   "execution_count": 6,
   "id": "77618aa3",
   "metadata": {},
   "outputs": [
    {
     "data": {
      "application/vnd.microsoft.datawrangler.viewer.v0+json": {
       "columns": [
        {
         "name": "index",
         "rawType": "object",
         "type": "string"
        },
        {
         "name": "0",
         "rawType": "int64",
         "type": "integer"
        }
       ],
       "ref": "71a0c9de-47b9-47d3-9ae1-93c1273fe03a",
       "rows": [
        [
         "country",
         "0"
        ],
        [
         "combined_figures_kg_capita_year",
         "0"
        ],
        [
         "household_estimate_kg_capita_year",
         "0"
        ],
        [
         "household_estimate_tonnes_year",
         "0"
        ],
        [
         "retail_estimate_kg_capita_year",
         "0"
        ],
        [
         "retail_estimate_tonnes_year",
         "0"
        ],
        [
         "food_service_estimate_kg_capita_year",
         "0"
        ],
        [
         "food_service_estimate_tonnes_year",
         "0"
        ],
        [
         "confidence_in_estimate",
         "0"
        ],
        [
         "m49_code",
         "0"
        ],
        [
         "region",
         "0"
        ],
        [
         "source",
         "0"
        ]
       ],
       "shape": {
        "columns": 1,
        "rows": 12
       }
      },
      "text/plain": [
       "country                                 0\n",
       "combined_figures_kg_capita_year         0\n",
       "household_estimate_kg_capita_year       0\n",
       "household_estimate_tonnes_year          0\n",
       "retail_estimate_kg_capita_year          0\n",
       "retail_estimate_tonnes_year             0\n",
       "food_service_estimate_kg_capita_year    0\n",
       "food_service_estimate_tonnes_year       0\n",
       "confidence_in_estimate                  0\n",
       "m49_code                                0\n",
       "region                                  0\n",
       "source                                  0\n",
       "dtype: int64"
      ]
     },
     "execution_count": 6,
     "metadata": {},
     "output_type": "execute_result"
    }
   ],
   "source": [
    "df.isnull().sum()"
   ]
  },
  {
   "cell_type": "markdown",
   "id": "9975c7a8",
   "metadata": {},
   "source": [
    "#### * Check Outliers "
   ]
  },
  {
   "cell_type": "code",
   "execution_count": 7,
   "id": "23761d62",
   "metadata": {},
   "outputs": [
    {
     "name": "stdout",
     "output_type": "stream",
     "text": [
      "combined_figures_kg_capita_year: 9 outliers\n",
      "household_estimate_kg_capita_year: 9 outliers\n",
      "household_estimate_tonnes_year: 23 outliers\n",
      "retail_estimate_kg_capita_year: 12 outliers\n",
      "retail_estimate_tonnes_year: 23 outliers\n",
      "food_service_estimate_kg_capita_year: 18 outliers\n",
      "food_service_estimate_tonnes_year: 25 outliers\n",
      "m49_code: 0 outliers\n"
     ]
    }
   ],
   "source": [
    "# Check for outliers in each numerical column using the IQR method\n",
    "\n",
    "numeric_cols = df.select_dtypes(include=[np.number]).columns\n",
    "\n",
    "outlier_summary = {}\n",
    "\n",
    "for col in numeric_cols:\n",
    "    Q1 = df[col].quantile(0.25)\n",
    "    Q3 = df[col].quantile(0.75)\n",
    "    IQR = Q3 - Q1\n",
    "    lower_bound = Q1 - 1.5 * IQR\n",
    "    upper_bound = Q3 + 1.5 * IQR\n",
    "    outliers = df[(df[col] < lower_bound) | (df[col] > upper_bound)]\n",
    "    outlier_summary[col] = {\n",
    "        'num_outliers': outliers.shape[0],\n",
    "        'outlier_indices': outliers.index.tolist()\n",
    "    }\n",
    "\n",
    "# Display outlier counts for each column\n",
    "for col, summary in outlier_summary.items():\n",
    "        print(f\"{col}: {summary['num_outliers']} outliers\")"
   ]
  },
  {
   "cell_type": "markdown",
   "id": "26e85bb0",
   "metadata": {},
   "source": [
    "###### given that size of the dataset we cant drop the outliers "
   ]
  },
  {
   "cell_type": "markdown",
   "id": "47d93de9",
   "metadata": {},
   "source": [
    "#### * Histograms and density plots are effective for understanding feature distributions"
   ]
  },
  {
   "cell_type": "code",
   "execution_count": 8,
   "id": "a13d3f63",
   "metadata": {},
   "outputs": [
    {
     "data": {
      "image/png": "[encoded data removed]",
      "text/plain": [
       "<Figure size 1000x1600 with 8 Axes>"
      ]
     },
     "metadata": {},
     "output_type": "display_data"
    }
   ],
   "source": [
    "import math\n",
    "\n",
    "num_cols = len(numeric_cols)\n",
    "n_cols = 2  # Number of plots per row\n",
    "n_rows = math.ceil(num_cols / n_cols)\n",
    "\n",
    "fig, axes = plt.subplots(n_rows, n_cols, figsize=(10, n_rows * 4))\n",
    "axes = axes.flatten()\n",
    "\n",
    "for i, col in enumerate(numeric_cols):\n",
    "    sns.histplot(df[col], bins=30, kde=True, ax=axes[i])\n",
    "    axes[i].set_title(col)\n",
    "    axes[i].tick_params(axis='x', rotation=45)\n",
    "# Hide any unused subplots\n",
    "for j in range(i + 1, len(axes)):\n",
    "    fig.delaxes(axes[j])\n",
    "    \n",
    "    \n",
    "plt.tight_layout()    \n",
    " # --- Save the Figure ---\n",
    "output_dir = Path.cwd().parent / \"reports\" / \"figures\"\n",
    "output_dir.mkdir(parents=True, exist_ok=True)\n",
    "output_filepath = output_dir / \"Histogram_and_density_plots.png\"\n",
    "plt.savefig(output_filepath)\n",
    "plt.show()"
   ]
  },
  {
   "cell_type": "markdown",
   "id": "662223ed",
   "metadata": {},
   "source": [
    "#### - save the data set "
   ]
  },
  {
   "cell_type": "code",
   "execution_count": 9,
   "id": "6ad76eaa",
   "metadata": {},
   "outputs": [],
   "source": [
    "output_dir = Path.cwd().parent / \"data\" / \"processed\"\n",
    "\n",
    "#if not path exist\n",
    "output_dir.mkdir(parents=True, exist_ok=True)\n",
    "\n",
    "output_filepath = output_dir / 'Food_waste_data_and_research_cleaned.csv'\n",
    "df.to_csv(output_filepath, index=False)\n"
   ]
  }
 ],
 "metadata": {
  "kernelspec": {
   "display_name": "Python 3",
   "language": "python",
   "name": "python3"
  },
  "language_info": {
   "codemirror_mode": {
    "name": "ipython",
    "version": 3
   },
   "file_extension": ".py",
   "mimetype": "text/x-python",
   "name": "python",
   "nbconvert_exporter": "python",
   "pygments_lexer": "ipython3",
   "version": "3.13.0"
  }
 },
 "nbformat": 4,
 "nbformat_minor": 5
}
